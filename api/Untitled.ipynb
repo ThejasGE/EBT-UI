{
 "cells": [
  {
   "cell_type": "code",
   "execution_count": 2,
   "metadata": {},
   "outputs": [
    {
     "name": "stdout",
     "output_type": "stream",
     "text": [
      "<class 'numpy.float32'>\n",
      "UP: 1 DOWN: 0\n",
      "wait_time 0  fill% 1.0  occup 1/1\n",
      "UP: 1 DOWN: 1\n",
      "wait_time 0  fill% 0.0  occup 0/1\n",
      "UP: 1 DOWN: 2\n",
      "wait_time 0  fill% 0.0  occup 0/1\n",
      "UP: 2 DOWN: 2\n",
      "wait_time 0  fill% 0.0  occup 0/1\n",
      "UP: 2 DOWN: 3\n",
      "wait_time 0  fill% 0.0  occup 0/1\n",
      "UP: 3 DOWN: 3\n",
      "wait_time 0  fill% 0.0  occup 0/1\n",
      "UP: 4 DOWN: 3\n",
      "wait_time 15  fill% 1.0  occup 1/1\n",
      "UP: 4 DOWN: 4\n",
      "wait_time 0  fill% 0.0  occup 0/1\n",
      "UP: 5 DOWN: 4\n",
      "wait_time 15  fill% 1.0  occup 1/1\n",
      "UP: 5 DOWN: 5\n",
      "wait_time 0  fill% 0.0  occup 0/1\n",
      "UP: 6 DOWN: 5\n",
      "wait_time 15  fill% 1.0  occup 1/1\n",
      "UP: 6 DOWN: 6\n",
      "wait_time 0  fill% 0.0  occup 0/1\n",
      "UP: 7 DOWN: 6\n",
      "wait_time 15  fill% 1.0  occup 1/1\n",
      "UP: 7 DOWN: 7\n",
      "wait_time 0  fill% 0.0  occup 0/1\n",
      "UP: 8 DOWN: 7\n",
      "wait_time 15  fill% 1.0  occup 1/1\n",
      "UP: 8 DOWN: 8\n",
      "wait_time 0  fill% 0.0  occup 0/1\n",
      "[INFO] elasped time: 29.89\n",
      "[INFO] approx. FPS: 39.01\n"
     ]
    }
   ],
   "source": [
    "import os\n",
    "from streamutils import streaming\n",
    "\n",
    "if __name__ == \"__main__\":\n",
    "    \n",
    "    streaming()\n"
   ]
  },
  {
   "cell_type": "code",
   "execution_count": 2,
   "metadata": {},
   "outputs": [
    {
     "data": {
      "text/plain": [
       "{'enter': 8,\n",
       " 'exit': 8,\n",
       " 'fill': 0,\n",
       " 'fill_perc': 0,\n",
       " 'wait': 0,\n",
       " 'timestamp': '1592472378.99335'}"
      ]
     },
     "execution_count": 2,
     "metadata": {},
     "output_type": "execute_result"
    }
   ],
   "source": [
    "from db import readConfig,saveConfig,DB\n",
    "\n",
    "DB().readDbLatestData()"
   ]
  },
  {
   "cell_type": "code",
   "execution_count": 5,
   "metadata": {},
   "outputs": [
    {
     "name": "stdout",
     "output_type": "stream",
     "text": [
      "eh\n"
     ]
    }
   ],
   "source": [
    "a=True\n",
    "b=True\n",
    "\n",
    "if a or b:\n",
    "    print('eh')"
   ]
  },
  {
   "cell_type": "code",
   "execution_count": null,
   "metadata": {},
   "outputs": [],
   "source": []
  }
 ],
 "metadata": {
  "kernelspec": {
   "display_name": "Python 3",
   "language": "python",
   "name": "python3"
  },
  "language_info": {
   "codemirror_mode": {
    "name": "ipython",
    "version": 3
   },
   "file_extension": ".py",
   "mimetype": "text/x-python",
   "name": "python",
   "nbconvert_exporter": "python",
   "pygments_lexer": "ipython3",
   "version": "3.6.8"
  }
 },
 "nbformat": 4,
 "nbformat_minor": 2
}
